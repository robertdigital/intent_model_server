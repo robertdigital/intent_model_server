{
 "cells": [
  {
   "cell_type": "code",
   "execution_count": null,
   "metadata": {},
   "outputs": [],
   "source": [
    "import json\n",
    "\n",
    "with open('AskUbuntuCorpus.json') as json_file:\n",
    "    data = json.load(json_file)\n",
    "    \n",
    "sentences = []\n",
    "intents = []\n",
    "\n",
    "classes = [\n",
    "    'make_update',\n",
    "    'none',\n",
    "    'setup_printer',\n",
    "    'shutdown_computer',\n",
    "    'software_recommendation']\n",
    "\n",
    "for sentence in data[\"sentences\"]:\n",
    "    sentences.append(sentence[\"text\"].lower().strip())\n",
    "    _class = sentence[\"intent\"].lower().strip().replace(\" \",\"_\")\n",
    "    intents.append(classes.index(_class))\n",
    "\n",
    "print(\"Sentences:\", len(sentences))\n",
    "print(\"Intents:\", intents)"
   ]
  },
  {
   "cell_type": "code",
   "execution_count": 2,
   "metadata": {},
   "outputs": [],
   "source": [
    "import numpy as np\n",
    "import tensorflow.compat.v2 as tf\n",
    "tf.config.optimizer.set_experimental_options({\"auto_mixed_precision\": True})\n",
    "from transformers import *\n",
    "\n",
    "MODEL = \"distilbert-base-uncased\"\n",
    "\n",
    "tokenizer = DistilBertTokenizer.from_pretrained(MODEL)\n",
    "model = TFDistilBertForSequenceClassification.from_pretrained(MODEL,\n",
    "                                                              dropout=0.2,\n",
    "                                                              num_labels=5)"
   ]
  },
  {
   "cell_type": "code",
   "execution_count": 3,
   "metadata": {},
   "outputs": [],
   "source": [
    "tokenized_sequence = [\n",
    "    tokenizer.encode(i, add_special_tokens=False) for i in sentences\n",
    "]"
   ]
  },
  {
   "cell_type": "code",
   "execution_count": 4,
   "metadata": {},
   "outputs": [],
   "source": [
    "x_train = tf.keras.preprocessing.sequence.pad_sequences(\n",
    "    tokenized_sequence,\n",
    "    maxlen=16,\n",
    "    dtype='int32',\n",
    "    padding='pre',\n",
    "    truncating='pre',\n",
    "    value=0.0\n",
    ")"
   ]
  },
  {
   "cell_type": "code",
   "execution_count": 5,
   "metadata": {},
   "outputs": [],
   "source": [
    "y_train = np.asarray(intents, dtype=\"int\")"
   ]
  },
  {
   "cell_type": "code",
   "execution_count": 6,
   "metadata": {},
   "outputs": [
    {
     "name": "stdout",
     "output_type": "stream",
     "text": [
      "Model: \"tf_distil_bert_for_sequence_classification\"\n",
      "_________________________________________________________________\n",
      "Layer (type)                 Output Shape              Param #   \n",
      "=================================================================\n",
      "distilbert (TFDistilBertMain multiple                  66362880  \n",
      "_________________________________________________________________\n",
      "pre_classifier (Dense)       multiple                  590592    \n",
      "_________________________________________________________________\n",
      "classifier (Dense)           multiple                  3845      \n",
      "_________________________________________________________________\n",
      "dropout_19 (Dropout)         multiple                  0         \n",
      "=================================================================\n",
      "Total params: 66,957,317\n",
      "Trainable params: 66,957,317\n",
      "Non-trainable params: 0\n",
      "_________________________________________________________________\n"
     ]
    }
   ],
   "source": [
    "opt = tf.keras.optimizers.Adam(learning_rate=3e-5, epsilon=1e-08, decay=0.01)\n",
    "opt = tf.keras.mixed_precision.experimental.LossScaleOptimizer(opt, \"dynamic\")\n",
    "loss = tf.keras.losses.SparseCategoricalCrossentropy(from_logits=True)\n",
    "metric = tf.keras.metrics.SparseCategoricalAccuracy(\"accuracy\")\n",
    "\n",
    "model.compile(optimizer=opt, loss=loss, metrics=[metric])\n",
    "\n",
    "model.summary()"
   ]
  },
  {
   "cell_type": "code",
   "execution_count": 7,
   "metadata": {},
   "outputs": [
    {
     "name": "stdout",
     "output_type": "stream",
     "text": [
      "Train on 162 samples, validate on 162 samples\n",
      "Epoch 1/10\n"
     ]
    },
    {
     "name": "stderr",
     "output_type": "stream",
     "text": [
      "/opt/conda/lib/python3.6/site-packages/tensorflow_core/python/framework/indexed_slices.py:424: UserWarning: Converting sparse IndexedSlices to a dense Tensor of unknown shape. This may consume a large amount of memory.\n",
      "  \"Converting sparse IndexedSlices to a dense Tensor of unknown shape. \"\n",
      "/opt/conda/lib/python3.6/site-packages/tensorflow_core/python/framework/indexed_slices.py:424: UserWarning: Converting sparse IndexedSlices to a dense Tensor of unknown shape. This may consume a large amount of memory.\n",
      "  \"Converting sparse IndexedSlices to a dense Tensor of unknown shape. \"\n"
     ]
    },
    {
     "name": "stdout",
     "output_type": "stream",
     "text": [
      "162/162 [==============================] - 11s 67ms/sample - loss: 1.4810 - accuracy: 0.4012 - val_loss: 1.2695 - val_accuracy: 0.5926\n",
      "Epoch 2/10\n",
      "162/162 [==============================] - 1s 5ms/sample - loss: 1.1307 - accuracy: 0.6358 - val_loss: 0.8558 - val_accuracy: 0.7654\n",
      "Epoch 3/10\n",
      "162/162 [==============================] - 1s 5ms/sample - loss: 0.7834 - accuracy: 0.8580 - val_loss: 0.5635 - val_accuracy: 0.9321\n",
      "Epoch 4/10\n",
      "162/162 [==============================] - 1s 5ms/sample - loss: 0.5375 - accuracy: 0.9321 - val_loss: 0.3763 - val_accuracy: 0.9444\n",
      "Epoch 5/10\n",
      "162/162 [==============================] - 1s 5ms/sample - loss: 0.3996 - accuracy: 0.9383 - val_loss: 0.2934 - val_accuracy: 0.9506\n",
      "Epoch 6/10\n",
      "162/162 [==============================] - 1s 5ms/sample - loss: 0.3157 - accuracy: 0.9506 - val_loss: 0.2379 - val_accuracy: 0.9506\n",
      "Epoch 7/10\n",
      "162/162 [==============================] - 1s 5ms/sample - loss: 0.2530 - accuracy: 0.9506 - val_loss: 0.1970 - val_accuracy: 0.9506\n",
      "Epoch 8/10\n",
      "162/162 [==============================] - 1s 5ms/sample - loss: 0.2234 - accuracy: 0.9506 - val_loss: 0.1696 - val_accuracy: 0.9568\n",
      "Epoch 9/10\n",
      "162/162 [==============================] - 1s 5ms/sample - loss: 0.1905 - accuracy: 0.9630 - val_loss: 0.1420 - val_accuracy: 0.9753\n",
      "Epoch 10/10\n",
      "162/162 [==============================] - 1s 5ms/sample - loss: 0.1697 - accuracy: 0.9691 - val_loss: 0.1221 - val_accuracy: 0.9815\n"
     ]
    }
   ],
   "source": [
    "history = model.fit(x_train, y_train,\n",
    "                    validation_data=(x_train, y_train,),\n",
    "                    batch_size=8, epochs=10)"
   ]
  },
  {
   "cell_type": "code",
   "execution_count": 8,
   "metadata": {},
   "outputs": [],
   "source": [
    "model.save_weights(\"../bert_intent.h5\")"
   ]
  },
  {
   "cell_type": "code",
   "execution_count": null,
   "metadata": {},
   "outputs": [],
   "source": []
  }
 ],
 "metadata": {
  "kernelspec": {
   "display_name": "Python 3",
   "language": "python",
   "name": "python3"
  },
  "language_info": {
   "codemirror_mode": {
    "name": "ipython",
    "version": 3
   },
   "file_extension": ".py",
   "mimetype": "text/x-python",
   "name": "python",
   "nbconvert_exporter": "python",
   "pygments_lexer": "ipython3",
   "version": "3.6.7"
  }
 },
 "nbformat": 4,
 "nbformat_minor": 4
}
